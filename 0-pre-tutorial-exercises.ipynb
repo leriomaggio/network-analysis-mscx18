{
 "cells": [
  {
   "cell_type": "markdown",
   "metadata": {},
   "source": [
    "# Pre-Tutorial Exercises\n",
    "\n",
    "If you've arrived early for the tutorial, please feel free to attempt the following exercises to warm-up."
   ]
  },
  {
   "cell_type": "code",
   "execution_count": null,
   "metadata": {
    "ExecuteTime": {
     "end_time": "2017-07-08T12:07:28.341024-04:00",
     "start_time": "2017-07-08T12:07:28.328856Z"
    },
    "collapsed": true
   },
   "outputs": [],
   "source": [
    "# 1. Basic Python data structures\n",
    "# I have a list of dictionaries as such:\n",
    "\n",
    "names = [{'name': 'Valerio',\n",
    "          'surname': 'Maggio'},\n",
    "         {'name': 'Manlio',\n",
    "          'surname': 'De Domenico'},\n",
    "         {'name': 'Alex',\n",
    "          'surname': 'Arenas'},\n",
    "         {'name': 'Luke',\n",
    "          'surname': 'Skywalker'}]\n",
    "\n",
    "# Write a function that takes in a list of dictionaries and a query surname, \n",
    "# and searches it for all individuals with a given surname.\n",
    "\n",
    "def find_persons_with_surname(persons, query_surname):\n",
    "    # Assert that the persons parameter is a list. \n",
    "    # This is a good defensive programming practice.\n",
    "    assert isinstance(persons, list)   \n",
    "    \n",
    "    results = []\n",
    "    for ______ in ______:\n",
    "        if ___________ == __________:\n",
    "            results.append(________)\n",
    "    \n",
    "    return results"
   ]
  },
  {
   "cell_type": "code",
   "execution_count": null,
   "metadata": {
    "ExecuteTime": {
     "end_time": "2017-07-08T12:07:28.468914-04:00",
     "start_time": "2017-07-08T12:07:28.343869Z"
    }
   },
   "outputs": [],
   "source": [
    "# Test your result below.\n",
    "results = find_persons_with_surname(names, 'De Domenico')\n",
    "assert len(results) == 1\n",
    "\n",
    "results = find_persons_with_surname(names, 'Skywalker')\n",
    "assert len(results) == 1"
   ]
  },
  {
   "cell_type": "code",
   "execution_count": null,
   "metadata": {
    "collapsed": true
   },
   "outputs": [],
   "source": []
  }
 ],
 "metadata": {
  "kernelspec": {
   "display_name": "Python (mscx)",
   "language": "python",
   "name": "mscx"
  },
  "language_info": {
   "codemirror_mode": {
    "name": "ipython",
    "version": 3
   },
   "file_extension": ".py",
   "mimetype": "text/x-python",
   "name": "python",
   "nbconvert_exporter": "python",
   "pygments_lexer": "ipython3",
   "version": "3.6.6"
  },
  "toc": {
   "colors": {
    "hover_highlight": "#DAA520",
    "navigate_num": "#000000",
    "navigate_text": "#333333",
    "running_highlight": "#FF0000",
    "selected_highlight": "#FFD700",
    "sidebar_border": "#EEEEEE",
    "wrapper_background": "#FFFFFF"
   },
   "moveMenuLeft": true,
   "nav_menu": {
    "height": "30px",
    "width": "252px"
   },
   "navigate_menu": true,
   "number_sections": true,
   "sideBar": true,
   "threshold": 4,
   "toc_cell": false,
   "toc_section_display": "block",
   "toc_window_display": false,
   "widenNotebook": false
  },
  "varInspector": {
   "cols": {
    "lenName": 16,
    "lenType": 16,
    "lenVar": 40
   },
   "kernels_config": {
    "python": {
     "delete_cmd_postfix": "",
     "delete_cmd_prefix": "del ",
     "library": "var_list.py",
     "varRefreshCmd": "print(var_dic_list())"
    },
    "r": {
     "delete_cmd_postfix": ") ",
     "delete_cmd_prefix": "rm(",
     "library": "var_list.r",
     "varRefreshCmd": "cat(var_dic_list()) "
    }
   },
   "types_to_exclude": [
    "module",
    "function",
    "builtin_function_or_method",
    "instance",
    "_Feature"
   ],
   "window_display": false
  },
  "widgets": {
   "state": {},
   "version": "1.1.1"
  }
 },
 "nbformat": 4,
 "nbformat_minor": 2
}
